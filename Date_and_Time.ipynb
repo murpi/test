{
  "nbformat": 4,
  "nbformat_minor": 0,
  "metadata": {
    "colab": {
      "name": "Date and Time.ipynb",
      "provenance": [],
      "collapsed_sections": []
    },
    "kernelspec": {
      "name": "python3",
      "display_name": "Python 3"
    }
  },
  "cells": [
    {
      "cell_type": "markdown",
      "metadata": {
        "id": "t0bLJ1JMgmzT"
      },
      "source": [
        "# Imports"
      ]
    },
    {
      "cell_type": "code",
      "metadata": {
        "id": "mWNA7zJHgqUB"
      },
      "source": [
        "from datetime import datetime\n",
        "from datetime import timedelta\n",
        "import pandas as pd\n",
        "import seaborn as sns\n",
        "import matplotlib.pyplot as plt"
      ],
      "execution_count": null,
      "outputs": []
    },
    {
      "cell_type": "markdown",
      "metadata": {
        "id": "FL-eDQnxgsug"
      },
      "source": [
        "# You have to convert each string variable into datetime objects"
      ]
    },
    {
      "cell_type": "code",
      "metadata": {
        "id": "gRsiQWy1hFaz",
        "colab": {
          "base_uri": "https://localhost:8080/"
        },
        "outputId": "77cad777-b293-4365-ec95-8d41ef046f58"
      },
      "source": [
        "var1 = '2018-01-04'\n",
        "print(type(var1))\n",
        "print(var1)"
      ],
      "execution_count": null,
      "outputs": [
        {
          "output_type": "stream",
          "text": [
            "<class 'str'>\n",
            "2018-01-04\n"
          ],
          "name": "stdout"
        }
      ]
    },
    {
      "cell_type": "code",
      "metadata": {
        "id": "817Nim6FgvF4"
      },
      "source": [
        "# It's up to you :\n",
        "\n",
        "\n"
      ],
      "execution_count": null,
      "outputs": []
    },
    {
      "cell_type": "code",
      "metadata": {
        "id": "-m_HBQQRhfrO"
      },
      "source": [
        "var2 = '14/02/2019'\n",
        "# It's up to you :\n"
      ],
      "execution_count": null,
      "outputs": []
    },
    {
      "cell_type": "code",
      "metadata": {
        "id": "-UWufd5WhrXh"
      },
      "source": [
        "var3 = '14 03 20'\n",
        "# It's up to you :\n"
      ],
      "execution_count": null,
      "outputs": []
    },
    {
      "cell_type": "code",
      "metadata": {
        "id": "KIDWq6hXh8sL"
      },
      "source": [
        "var4 = '14/02/2019 21:30'\n",
        "# It's up to you :\n"
      ],
      "execution_count": null,
      "outputs": []
    },
    {
      "cell_type": "code",
      "metadata": {
        "id": "9N-VqO3DiA9y"
      },
      "source": [
        "var5 = '2018-01-04 at 18 hours and 48 min'\n",
        "# It's up to you :\n"
      ],
      "execution_count": null,
      "outputs": []
    },
    {
      "cell_type": "markdown",
      "metadata": {
        "id": "6xa7YX8AivRC"
      },
      "source": [
        "# You have to convert a datetime object into string with precise format"
      ]
    },
    {
      "cell_type": "code",
      "metadata": {
        "id": "ZqAwQbGKi8Og",
        "colab": {
          "base_uri": "https://localhost:8080/"
        },
        "outputId": "e38b2b85-347f-48a1-c05b-ca8556ecefe1"
      },
      "source": [
        "var_date = datetime.strptime('2020-02-15 20:05', '%Y-%m-%d %H:%M')\n",
        "print(var_date)"
      ],
      "execution_count": null,
      "outputs": [
        {
          "output_type": "stream",
          "text": [
            "2020-02-15 20:05:00\n"
          ],
          "name": "stdout"
        }
      ]
    },
    {
      "cell_type": "code",
      "metadata": {
        "id": "Te-biE9gjkj8"
      },
      "source": [
        "# We would like to print this format : 15/02/2020\n",
        "\n"
      ],
      "execution_count": null,
      "outputs": []
    },
    {
      "cell_type": "code",
      "metadata": {
        "id": "YaKMyjwcjwQE"
      },
      "source": [
        "# We would like to print this format : 15-02-2020\n",
        "\n"
      ],
      "execution_count": null,
      "outputs": []
    },
    {
      "cell_type": "code",
      "metadata": {
        "id": "-QuUBNpaj1ze"
      },
      "source": [
        "# We would like to print this format : 15/02\n",
        "\n"
      ],
      "execution_count": null,
      "outputs": []
    },
    {
      "cell_type": "code",
      "metadata": {
        "id": "HkWp_pmbj2lw"
      },
      "source": [
        "# We would like to print this format : 2020-02\n",
        "\n"
      ],
      "execution_count": null,
      "outputs": []
    },
    {
      "cell_type": "code",
      "metadata": {
        "id": "_wPUl9tvj3DX"
      },
      "source": [
        "# We would like to print this format : 2020-02-15 at 20:05\n",
        "\n"
      ],
      "execution_count": null,
      "outputs": []
    },
    {
      "cell_type": "markdown",
      "metadata": {
        "id": "Bdh3lWC-kKeP"
      },
      "source": [
        "# Your mission is to determine which date it was / it will be"
      ]
    },
    {
      "cell_type": "code",
      "metadata": {
        "id": "mqjWPixhjRJt"
      },
      "source": [
        "# what day will it be in 7 weeks ?\n",
        "\n"
      ],
      "execution_count": null,
      "outputs": []
    },
    {
      "cell_type": "code",
      "metadata": {
        "id": "i9qsaEC7kdV_"
      },
      "source": [
        "# what day will it be in 7 days ?\n",
        "\n"
      ],
      "execution_count": null,
      "outputs": []
    },
    {
      "cell_type": "code",
      "metadata": {
        "id": "SJYZOuUikhIq"
      },
      "source": [
        "# what day will it be in 72 hours ?\n",
        "\n"
      ],
      "execution_count": null,
      "outputs": []
    },
    {
      "cell_type": "code",
      "metadata": {
        "id": "kdk858vtkljP"
      },
      "source": [
        "# what date was 30 days ago ?\n",
        "\n"
      ],
      "execution_count": null,
      "outputs": []
    },
    {
      "cell_type": "code",
      "metadata": {
        "id": "EEORndhxkuA1"
      },
      "source": [
        "# what date was 30 weeks ago ?\n",
        "\n"
      ],
      "execution_count": null,
      "outputs": []
    },
    {
      "cell_type": "markdown",
      "metadata": {
        "id": "vlbi8zDok3sp"
      },
      "source": [
        "# With Pandas\n",
        "\"DATE\" column has only string values. On a chart, the X-axis is not well displayed."
      ]
    },
    {
      "cell_type": "code",
      "metadata": {
        "id": "yd0cJVoLk3YZ",
        "colab": {
          "base_uri": "https://localhost:8080/",
          "height": 265
        },
        "outputId": "f191bc67-7e82-412a-e3a5-2eb3d69e2a64"
      },
      "source": [
        "# Just execute the code below:\n",
        "df = pd.read_csv(\"https://raw.githubusercontent.com/murpi/wilddata/master/quests/weather2019.csv\")\n",
        "plt.scatter(x = df['DATE'], \n",
        "            y = df['MAX_TEMPERATURE_C'])\n",
        "plt.show()"
      ],
      "execution_count": null,
      "outputs": [
        {
          "output_type": "display_data",
          "data": {
            "image/png": "[encoded data removed]",
            "text/plain": [
              "<Figure size 432x288 with 1 Axes>"
            ]
          },
          "metadata": {
            "tags": [],
            "needs_background": "light"
          }
        }
      ]
    },
    {
      "cell_type": "code",
      "metadata": {
        "id": "-ZxwPNNelIJV"
      },
      "source": [
        "# Convert \"DATE\" column into a datetime format, then display the same chart. Are ticks on X-axis better printed ?\n"
      ],
      "execution_count": null,
      "outputs": []
    },
    {
      "cell_type": "code",
      "metadata": {
        "id": "UEyTRF_ZooSz"
      },
      "source": [
        "# Display only rows for the month of June\n",
        "\n"
      ],
      "execution_count": null,
      "outputs": []
    }
  ]
}